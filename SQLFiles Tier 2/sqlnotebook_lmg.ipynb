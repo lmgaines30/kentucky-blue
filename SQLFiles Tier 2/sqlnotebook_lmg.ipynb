{
 "cells": [
  {
   "cell_type": "code",
   "execution_count": 1,
   "metadata": {},
   "outputs": [],
   "source": [
    "#import sqlite package\n",
    "import sqlite3"
   ]
  },
  {
   "cell_type": "code",
   "execution_count": 2,
   "metadata": {},
   "outputs": [],
   "source": [
    "#connect to the local copy of case study database\n",
    "conn = sqlite3.connect('sqlite_db_pythonsqlite.db')\n"
   ]
  },
  {
   "cell_type": "code",
   "execution_count": 3,
   "metadata": {},
   "outputs": [],
   "source": [
    "#create a cursor\n",
    "c = conn.cursor()"
   ]
  },
  {
   "cell_type": "markdown",
   "metadata": {},
   "source": [
    "Q10: Produce a list of facilities with a total revenue less than 1000.\n",
    "The output of facility name and total revenue, sorted by revenue. Remember\n",
    "that there's a different cost for guests and members! "
   ]
  },
  {
   "cell_type": "code",
   "execution_count": 4,
   "metadata": {},
   "outputs": [],
   "source": [
    "query10 = \"\"\"SELECT facility, SUM(booking_revenue) AS total_revenue\n",
    "FROM (\n",
    "\tSELECT f.name AS facility, b.slots * guestcost AS booking_revenue\n",
    "\tFrom Members as m\n",
    "\tINNER JOIN Bookings as b\n",
    "\tON m.memid = b.memid\n",
    "\tINNER JOIN Facilities as f\n",
    "\tON b.facid = f.facid\n",
    "\tWHERE b.memid = 0\n",
    "\tUNION\n",
    "\tSELECT f.name AS facility, b.slots * membercost AS booking_revenue\n",
    "\tFrom Members as m\n",
    "\tINNER JOIN Bookings as b\n",
    "\tON m.memid = b.memid\n",
    "\tINNER JOIN Facilities as f\n",
    "\tON b.facid = f.facid\n",
    "\tWHERE b.memid >0) AS combined_revenue\n",
    "GROUP BY facility\n",
    "ORDER BY total_revenue DESC;\"\"\"\n"
   ]
  },
  {
   "cell_type": "code",
   "execution_count": 5,
   "metadata": {},
   "outputs": [
    {
     "name": "stdout",
     "output_type": "stream",
     "text": [
      "[('Massage Room 1', 1659.4), ('Tennis Court 1', 840), ('Squash Court', 637.0), ('Tennis Court 2', 540), ('Massage Room 2', 499.8)]\n"
     ]
    }
   ],
   "source": [
    "#execute query 10\n",
    "c.execute(query10)\n",
    "print(c.fetchmany(5))"
   ]
  },
  {
   "cell_type": "markdown",
   "metadata": {},
   "source": [
    "Q11: Produce a report of members and who recommended them in alphabetic surname,firstname order "
   ]
  },
  {
   "cell_type": "code",
   "execution_count": 6,
   "metadata": {},
   "outputs": [],
   "source": [
    "query11 = \"\"\"SELECT DISTINCT CONCAT_WS(' ', m1.firstname, m1.surname) AS Member_name,  \n",
    "\tCASE WHEN m1.recommendedby = \"\" THEN \"Not recommended by anyone\"\n",
    "\tELSE CONCAT_WS(' ', m2.firstname, m2.surname) END AS recommended_by\n",
    "FROM Members AS m1\n",
    "LEFT JOIN Members AS m2\n",
    "ON m1.recommendedby = m2.memid\n",
    "WHERE m1.memID > 0\n",
    "ORDER BY m1.surname ASC;\"\"\""
   ]
  },
  {
   "cell_type": "code",
   "execution_count": 7,
   "metadata": {},
   "outputs": [
    {
     "name": "stdout",
     "output_type": "stream",
     "text": [
      "[('Florence Bader', 'Ponder Stibbons'), ('Anne Baker', 'Ponder Stibbons'), ('Timothy Baker', 'Jemima Farrell'), ('Tim Boothe', 'Tim Rownam'), ('Gerald Butters', 'Darren Smith')]\n"
     ]
    }
   ],
   "source": [
    "#execute query 11\n",
    "c.execute(query11)\n",
    "print(c.fetchmany(5))"
   ]
  },
  {
   "cell_type": "markdown",
   "metadata": {},
   "source": [
    "Q12: Find the facilities with their usage by member, but not guests"
   ]
  },
  {
   "cell_type": "code",
   "execution_count": 8,
   "metadata": {},
   "outputs": [],
   "source": [
    "query12 = \"\"\"SELECT f.name AS facility, CONCAT_WS(' ', m.firstname, m.surname) AS Member_name, SUM(b.slots) AS slots_usage, SUM(b.slots*30) AS usage_in_minutes\n",
    "FROM Bookings AS b\n",
    "INNER JOIN Members AS m\n",
    "ON b.memid = m.memid\n",
    "INNER JOIN Facilities AS f\n",
    "ON b.facid = f.facid\n",
    "WHERE b.memid > 0\n",
    "GROUP BY f.name, m.surname;\"\"\""
   ]
  },
  {
   "cell_type": "code",
   "execution_count": 9,
   "metadata": {},
   "outputs": [
    {
     "name": "stdout",
     "output_type": "stream",
     "text": [
      "[('Badminton Court', 'Florence Bader', 27, 810), ('Badminton Court', 'Timothy Baker', 51, 1530), ('Badminton Court', 'Tim Boothe', 36, 1080), ('Badminton Court', 'Gerald Butters', 63, 1890), ('Badminton Court', 'Erica Crumpet', 6, 180)]\n"
     ]
    }
   ],
   "source": [
    "#execute query 12\n",
    "c.execute(query12)\n",
    "print(c.fetchmany(5))"
   ]
  },
  {
   "cell_type": "markdown",
   "metadata": {},
   "source": [
    "Q13: Find the facilities usage by month, but not guests"
   ]
  },
  {
   "cell_type": "code",
   "execution_count": 10,
   "metadata": {},
   "outputs": [],
   "source": [
    "query13 =\"\"\"SELECT \n",
    "\tf.name AS facility, \n",
    "    strftime('%m', b.starttime) AS month,\n",
    "\tSUM(b.slots) AS slots_usage, \n",
    "\tSUM(b.slots*30) AS usage_in_minutes\n",
    "FROM Bookings AS b\n",
    "INNER JOIN Facilities AS f\n",
    "ON b.facid = f.facid\n",
    "WHERE b.memid > 0\n",
    "GROUP BY f.name, month;\"\"\""
   ]
  },
  {
   "cell_type": "code",
   "execution_count": 11,
   "metadata": {},
   "outputs": [
    {
     "name": "stdout",
     "output_type": "stream",
     "text": [
      "[('Badminton Court', '07', 165, 4950), ('Badminton Court', '08', 414, 12420), ('Badminton Court', '09', 507, 15210), ('Massage Room 1', '07', 166, 4980), ('Massage Room 1', '08', 316, 9480)]\n"
     ]
    }
   ],
   "source": [
    "#execute query 14\n",
    "c.execute(query13)\n",
    "print(c.fetchmany(5))"
   ]
  }
 ],
 "metadata": {
  "kernelspec": {
   "display_name": "analytics",
   "language": "python",
   "name": "python3"
  },
  "language_info": {
   "codemirror_mode": {
    "name": "ipython",
    "version": 3
   },
   "file_extension": ".py",
   "mimetype": "text/x-python",
   "name": "python",
   "nbconvert_exporter": "python",
   "pygments_lexer": "ipython3",
   "version": "3.11.9"
  }
 },
 "nbformat": 4,
 "nbformat_minor": 2
}
